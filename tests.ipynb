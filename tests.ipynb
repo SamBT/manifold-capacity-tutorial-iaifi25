{
 "cells": [
  {
   "cell_type": "code",
   "execution_count": null,
   "id": "0aa21926",
   "metadata": {},
   "outputs": [],
   "source": [
    "# Imports and pip installs\n",
    "#### RUN THIS CELL FIRST ####\n",
    "\n",
    "import torch\n",
    "import torch.nn as nn\n",
    "import numpy as np\n",
    "import matplotlib.pyplot as plt\n",
    "import cvxopt"
   ]
  },
  {
   "cell_type": "code",
   "execution_count": null,
   "id": "e80d341d",
   "metadata": {},
   "outputs": [],
   "source": []
  },
  {
   "cell_type": "code",
   "execution_count": null,
   "id": "2d481b0a",
   "metadata": {},
   "outputs": [],
   "source": []
  },
  {
   "cell_type": "code",
   "execution_count": null,
   "id": "efb76631",
   "metadata": {},
   "outputs": [],
   "source": []
  }
 ],
 "metadata": {
  "language_info": {
   "name": "python"
  }
 },
 "nbformat": 4,
 "nbformat_minor": 5
}
